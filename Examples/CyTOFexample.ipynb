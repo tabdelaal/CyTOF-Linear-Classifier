{
 "cells": [
  {
   "cell_type": "markdown",
   "metadata": {},
   "source": [
    "# A CyTOF dataset example using LDA\n",
    "\n",
    "Using the **AML** dataset"
   ]
  },
  {
   "cell_type": "markdown",
   "metadata": {},
   "source": [
    "Set the working directory to the 'AML' dataset folder"
   ]
  },
  {
   "cell_type": "code",
   "execution_count": 1,
   "metadata": {},
   "outputs": [],
   "source": [
    "setwd('AML')"
   ]
  },
  {
   "cell_type": "markdown",
   "metadata": {},
   "source": [
    "Load the AML dataset"
   ]
  },
  {
   "cell_type": "code",
   "execution_count": 2,
   "metadata": {
    "scrolled": false
   },
   "outputs": [
    {
     "data": {
      "text/html": [
       "<table>\n",
       "<thead><tr><th scope=col>Time</th><th scope=col>Cell_length</th><th scope=col>DNA1</th><th scope=col>DNA2</th><th scope=col>CD45RA</th><th scope=col>CD133</th><th scope=col>CD19</th><th scope=col>CD22</th><th scope=col>CD11b</th><th scope=col>CD4</th><th scope=col>...</th><th scope=col>CD117</th><th scope=col>CD49d2</th><th scope=col>HLA.DR</th><th scope=col>CD64</th><th scope=col>CD41</th><th scope=col>Viability</th><th scope=col>file_number</th><th scope=col>event_number</th><th scope=col>cell_type</th><th scope=col>subject</th></tr></thead>\n",
       "<tbody>\n",
       "\t<tr><td>2693        </td><td>22          </td><td>201.7833    </td><td>253.0166    </td><td> 0.81704921 </td><td>-0.1479468  </td><td>-0.033481941</td><td> 0.3321835  </td><td>-0.045922440</td><td> 1.85833371 </td><td>...         </td><td> 0.26537463 </td><td> 4.8048577  </td><td>12.7340918  </td><td>-0.02687777 </td><td>-0.009804348</td><td> 3.4741678  </td><td>94          </td><td> 307        </td><td>Basophils   </td><td>H1          </td></tr>\n",
       "\t<tr><td>3736        </td><td>35          </td><td>191.8286    </td><td>308.8691    </td><td> 3.80138493 </td><td>-0.1914464  </td><td>-0.083273850</td><td> 0.3723878  </td><td> 4.494378567</td><td>-0.17715840 </td><td>...         </td><td> 0.44890141 </td><td> 0.9955558  </td><td> 2.5581648  </td><td> 0.72660160 </td><td> 4.905976295</td><td> 2.9566925  </td><td>94          </td><td> 545        </td><td>Basophils   </td><td>H1          </td></tr>\n",
       "\t<tr><td>7015        </td><td>32          </td><td>116.1119    </td><td>200.8392    </td><td> 3.20443869 </td><td>-0.1611056  </td><td> 0.369612783</td><td>-0.2149521  </td><td>-0.009404267</td><td>-0.04390361 </td><td>...         </td><td> 0.23119387 </td><td>33.0254593  </td><td> 8.5743637  </td><td>-0.05480448 </td><td>-0.052066747</td><td> 3.4432089  </td><td>94          </td><td>1726        </td><td>Basophils   </td><td>H1          </td></tr>\n",
       "\t<tr><td>7099        </td><td>29          </td><td>176.2485    </td><td>313.0225    </td><td> 2.23738217 </td><td>-0.1380714  </td><td>-0.088311136</td><td>-0.2204303  </td><td> 4.006597996</td><td>-0.09533478 </td><td>...         </td><td> 0.33259615 </td><td> 8.8794279  </td><td> 0.7049295  </td><td>-0.06724661 </td><td>-0.130210981</td><td>-0.1326317  </td><td>94          </td><td>1766        </td><td>Basophils   </td><td>H1          </td></tr>\n",
       "\t<tr><td>7700        </td><td>25          </td><td>133.3328    </td><td>226.4678    </td><td>-0.04404699 </td><td>-0.1515095  </td><td> 0.402548134</td><td> 2.5817690  </td><td> 6.742060184</td><td> 2.90662718 </td><td>...         </td><td>-0.03111706 </td><td> 0.9095623  </td><td> 0.9930771  </td><td> 0.38120484 </td><td>-0.202496067</td><td> 1.4354575  </td><td>94          </td><td>2031        </td><td>Basophils   </td><td>H1          </td></tr>\n",
       "\t<tr><td>8333        </td><td>28          </td><td>132.1282    </td><td>326.0217    </td><td> 1.15033615 </td><td>-0.1475202  </td><td>-0.001792617</td><td>-0.1497730  </td><td> 1.529571056</td><td>-0.17544551 </td><td>...         </td><td>-0.21846008 </td><td> 2.0122800  </td><td> 0.9860064  </td><td> 0.53348595 </td><td>-0.023030506</td><td>-0.0666722  </td><td>94          </td><td>2300        </td><td>Basophils   </td><td>H1          </td></tr>\n",
       "</tbody>\n",
       "</table>\n"
      ],
      "text/latex": [
       "\\begin{tabular}{r|lllllllllllllllllllllllllllllllllllllllll}\n",
       " Time & Cell\\_length & DNA1 & DNA2 & CD45RA & CD133 & CD19 & CD22 & CD11b & CD4 & ... & CD117 & CD49d2 & HLA.DR & CD64 & CD41 & Viability & file\\_number & event\\_number & cell\\_type & subject\\\\\n",
       "\\hline\n",
       "\t 2693         & 22           & 201.7833     & 253.0166     &  0.81704921  & -0.1479468   & -0.033481941 &  0.3321835   & -0.045922440 &  1.85833371  & ...          &  0.26537463  &  4.8048577   & 12.7340918   & -0.02687777  & -0.009804348 &  3.4741678   & 94           &  307         & Basophils    & H1          \\\\\n",
       "\t 3736         & 35           & 191.8286     & 308.8691     &  3.80138493  & -0.1914464   & -0.083273850 &  0.3723878   &  4.494378567 & -0.17715840  & ...          &  0.44890141  &  0.9955558   &  2.5581648   &  0.72660160  &  4.905976295 &  2.9566925   & 94           &  545         & Basophils    & H1          \\\\\n",
       "\t 7015         & 32           & 116.1119     & 200.8392     &  3.20443869  & -0.1611056   &  0.369612783 & -0.2149521   & -0.009404267 & -0.04390361  & ...          &  0.23119387  & 33.0254593   &  8.5743637   & -0.05480448  & -0.052066747 &  3.4432089   & 94           & 1726         & Basophils    & H1          \\\\\n",
       "\t 7099         & 29           & 176.2485     & 313.0225     &  2.23738217  & -0.1380714   & -0.088311136 & -0.2204303   &  4.006597996 & -0.09533478  & ...          &  0.33259615  &  8.8794279   &  0.7049295   & -0.06724661  & -0.130210981 & -0.1326317   & 94           & 1766         & Basophils    & H1          \\\\\n",
       "\t 7700         & 25           & 133.3328     & 226.4678     & -0.04404699  & -0.1515095   &  0.402548134 &  2.5817690   &  6.742060184 &  2.90662718  & ...          & -0.03111706  &  0.9095623   &  0.9930771   &  0.38120484  & -0.202496067 &  1.4354575   & 94           & 2031         & Basophils    & H1          \\\\\n",
       "\t 8333         & 28           & 132.1282     & 326.0217     &  1.15033615  & -0.1475202   & -0.001792617 & -0.1497730   &  1.529571056 & -0.17544551  & ...          & -0.21846008  &  2.0122800   &  0.9860064   &  0.53348595  & -0.023030506 & -0.0666722   & 94           & 2300         & Basophils    & H1          \\\\\n",
       "\\end{tabular}\n"
      ],
      "text/markdown": [
       "\n",
       "Time | Cell_length | DNA1 | DNA2 | CD45RA | CD133 | CD19 | CD22 | CD11b | CD4 | ... | CD117 | CD49d2 | HLA.DR | CD64 | CD41 | Viability | file_number | event_number | cell_type | subject | \n",
       "|---|---|---|---|---|---|\n",
       "| 2693         | 22           | 201.7833     | 253.0166     |  0.81704921  | -0.1479468   | -0.033481941 |  0.3321835   | -0.045922440 |  1.85833371  | ...          |  0.26537463  |  4.8048577   | 12.7340918   | -0.02687777  | -0.009804348 |  3.4741678   | 94           |  307         | Basophils    | H1           | \n",
       "| 3736         | 35           | 191.8286     | 308.8691     |  3.80138493  | -0.1914464   | -0.083273850 |  0.3723878   |  4.494378567 | -0.17715840  | ...          |  0.44890141  |  0.9955558   |  2.5581648   |  0.72660160  |  4.905976295 |  2.9566925   | 94           |  545         | Basophils    | H1           | \n",
       "| 7015         | 32           | 116.1119     | 200.8392     |  3.20443869  | -0.1611056   |  0.369612783 | -0.2149521   | -0.009404267 | -0.04390361  | ...          |  0.23119387  | 33.0254593   |  8.5743637   | -0.05480448  | -0.052066747 |  3.4432089   | 94           | 1726         | Basophils    | H1           | \n",
       "| 7099         | 29           | 176.2485     | 313.0225     |  2.23738217  | -0.1380714   | -0.088311136 | -0.2204303   |  4.006597996 | -0.09533478  | ...          |  0.33259615  |  8.8794279   |  0.7049295   | -0.06724661  | -0.130210981 | -0.1326317   | 94           | 1766         | Basophils    | H1           | \n",
       "| 7700         | 25           | 133.3328     | 226.4678     | -0.04404699  | -0.1515095   |  0.402548134 |  2.5817690   |  6.742060184 |  2.90662718  | ...          | -0.03111706  |  0.9095623   |  0.9930771   |  0.38120484  | -0.202496067 |  1.4354575   | 94           | 2031         | Basophils    | H1           | \n",
       "| 8333         | 28           | 132.1282     | 326.0217     |  1.15033615  | -0.1475202   | -0.001792617 | -0.1497730   |  1.529571056 | -0.17544551  | ...          | -0.21846008  |  2.0122800   |  0.9860064   |  0.53348595  | -0.023030506 | -0.0666722   | 94           | 2300         | Basophils    | H1           | \n",
       "\n",
       "\n"
      ],
      "text/plain": [
       "  Time Cell_length DNA1     DNA2     CD45RA      CD133      CD19        \n",
       "1 2693 22          201.7833 253.0166  0.81704921 -0.1479468 -0.033481941\n",
       "2 3736 35          191.8286 308.8691  3.80138493 -0.1914464 -0.083273850\n",
       "3 7015 32          116.1119 200.8392  3.20443869 -0.1611056  0.369612783\n",
       "4 7099 29          176.2485 313.0225  2.23738217 -0.1380714 -0.088311136\n",
       "5 7700 25          133.3328 226.4678 -0.04404699 -0.1515095  0.402548134\n",
       "6 8333 28          132.1282 326.0217  1.15033615 -0.1475202 -0.001792617\n",
       "  CD22       CD11b        CD4         ... CD117       CD49d2     HLA.DR    \n",
       "1  0.3321835 -0.045922440  1.85833371 ...  0.26537463  4.8048577 12.7340918\n",
       "2  0.3723878  4.494378567 -0.17715840 ...  0.44890141  0.9955558  2.5581648\n",
       "3 -0.2149521 -0.009404267 -0.04390361 ...  0.23119387 33.0254593  8.5743637\n",
       "4 -0.2204303  4.006597996 -0.09533478 ...  0.33259615  8.8794279  0.7049295\n",
       "5  2.5817690  6.742060184  2.90662718 ... -0.03111706  0.9095623  0.9930771\n",
       "6 -0.1497730  1.529571056 -0.17544551 ... -0.21846008  2.0122800  0.9860064\n",
       "  CD64        CD41         Viability  file_number event_number cell_type\n",
       "1 -0.02687777 -0.009804348  3.4741678 94           307         Basophils\n",
       "2  0.72660160  4.905976295  2.9566925 94           545         Basophils\n",
       "3 -0.05480448 -0.052066747  3.4432089 94          1726         Basophils\n",
       "4 -0.06724661 -0.130210981 -0.1326317 94          1766         Basophils\n",
       "5  0.38120484 -0.202496067  1.4354575 94          2031         Basophils\n",
       "6  0.53348595 -0.023030506 -0.0666722 94          2300         Basophils\n",
       "  subject\n",
       "1 H1     \n",
       "2 H1     \n",
       "3 H1     \n",
       "4 H1     \n",
       "5 H1     \n",
       "6 H1     "
      ]
     },
     "metadata": {},
     "output_type": "display_data"
    }
   ],
   "source": [
    "AML.data <-read.csv('AML_benchmark.csv',header = TRUE)\n",
    "head(AML.data)"
   ]
  },
  {
   "cell_type": "markdown",
   "metadata": {},
   "source": [
    "Filter out Debris and Singlets"
   ]
  },
  {
   "cell_type": "code",
   "execution_count": 3,
   "metadata": {},
   "outputs": [
    {
     "data": {
      "text/html": [
       "<ol class=list-inline>\n",
       "\t<li>104184</li>\n",
       "\t<li>41</li>\n",
       "</ol>\n"
      ],
      "text/latex": [
       "\\begin{enumerate*}\n",
       "\\item 104184\n",
       "\\item 41\n",
       "\\end{enumerate*}\n"
      ],
      "text/markdown": [
       "1. 104184\n",
       "2. 41\n",
       "\n",
       "\n"
      ],
      "text/plain": [
       "[1] 104184     41"
      ]
     },
     "metadata": {},
     "output_type": "display_data"
    }
   ],
   "source": [
    "AML.data <- AML.data[AML.data$cell_type != 'NotDebrisSinglets',]\n",
    "dim(AML.data)"
   ]
  },
  {
   "cell_type": "markdown",
   "metadata": {},
   "source": [
    "Divide the dataset into training and testing folds, write to csv files"
   ]
  },
  {
   "cell_type": "code",
   "execution_count": 4,
   "metadata": {},
   "outputs": [
    {
     "name": "stderr",
     "output_type": "stream",
     "text": [
      "Loading required package: lattice\n",
      "Loading required package: ggplot2\n",
      "Warning message in createDataPartition(AML.data$cell_type, 2):\n",
      "\"Some classes have no records ( NotDebrisSinglets ) and these will be ignored\""
     ]
    }
   ],
   "source": [
    "library(caret)\n",
    "Folds <- createDataPartition(AML.data$cell_type,2)\n",
    "\n",
    "AML.Train <- AML.data[unlist(Folds[1],use.names = FALSE),]\n",
    "AML.Test <- AML.data[unlist(Folds[2],use.names = FALSE),]\n",
    "\n",
    "write.table(AML.Train,file = 'AML_train.csv',col.names = FALSE,row.names = FALSE,sep = ',')\n",
    "write.table(AML.Test,file = 'AML_test.csv',col.names = FALSE,row.names = FALSE,sep = ',')"
   ]
  },
  {
   "cell_type": "markdown",
   "metadata": {},
   "source": [
    "Manually create new directories 'AML Train' and 'AML Test'.Next, move 'AML_train.csv' and 'AML_test.csv' to the new directories, repectively"
   ]
  },
  {
   "cell_type": "markdown",
   "metadata": {},
   "source": [
    "Use CyTOF_LDAtrain function to train the classifier using 'AML_train.csv'\n",
    "\n",
    "Use CyTOF_LDApredict function to obtain predictions for 'AML_test.csv'"
   ]
  },
  {
   "cell_type": "code",
   "execution_count": 5,
   "metadata": {},
   "outputs": [],
   "source": [
    "source('CyTOF_LDAtrain.R')\n",
    "source('CyTOF_LDApredict.R')\n",
    "\n",
    "# cell type labels are in column no. 40 \n",
    "LDA.Model <- CyTOF_LDAtrain(TrainingSamplesExt = 'AML Train/',TrainingLabelsExt = '',mode = 'CSV',\n",
    "                            RelevantMarkers =  c(5:36),LabelIndex = 40, Transformation = 'arcsinh')\n",
    "\n",
    "Predictions <- CyTOF_LDApredict(LDA.Model,TestingSamplesExt = 'AML Test/', mode = 'CSV', RejectionThreshold = 0)"
   ]
  },
  {
   "cell_type": "markdown",
   "metadata": {},
   "source": [
    "Compare the predicted cell labels with the original labels in **AML.Test**"
   ]
  },
  {
   "cell_type": "code",
   "execution_count": 6,
   "metadata": {},
   "outputs": [
    {
     "data": {
      "text/html": [
       "98.1725693444668"
      ],
      "text/latex": [
       "98.1725693444668"
      ],
      "text/markdown": [
       "98.1725693444668"
      ],
      "text/plain": [
       "[1] 98.17257"
      ]
     },
     "metadata": {},
     "output_type": "display_data"
    }
   ],
   "source": [
    "Predictions <- unlist(Predictions)\n",
    "Accuracy <- sum(Predictions == AML.Test$cell_type)/length(AML.Test$cell_type) * 100\n",
    "Accuracy"
   ]
  }
 ],
 "metadata": {
  "kernelspec": {
   "display_name": "R",
   "language": "R",
   "name": "ir"
  },
  "language_info": {
   "codemirror_mode": "r",
   "file_extension": ".r",
   "mimetype": "text/x-r-source",
   "name": "R",
   "pygments_lexer": "r",
   "version": "3.5.1"
  }
 },
 "nbformat": 4,
 "nbformat_minor": 2
}
