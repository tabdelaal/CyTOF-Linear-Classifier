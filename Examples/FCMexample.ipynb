{
 "cells": [
  {
   "cell_type": "markdown",
   "metadata": {},
   "source": [
    "# A FCM dataset example using LDA\n",
    "\n",
    "Using the **FlowCAP-I GvHD** dataset"
   ]
  },
  {
   "cell_type": "markdown",
   "metadata": {},
   "source": [
    "Set the working directory to the 'GvHD' dataset folder"
   ]
  },
  {
   "cell_type": "code",
   "execution_count": 1,
   "metadata": {},
   "outputs": [],
   "source": [
    "setwd('FlowCAP_GvHD')"
   ]
  },
  {
   "cell_type": "markdown",
   "metadata": {},
   "source": [
    "The **GvHD** dataset contains 12 samples.\n",
    "\n",
    "We used odd samples for training (using CyTOF_LDAtrain), and even samples for testing (using CyTOF_LDApredict)."
   ]
  },
  {
   "cell_type": "code",
   "execution_count": 2,
   "metadata": {},
   "outputs": [],
   "source": [
    "source('CyTOF_LDAtrain.R')\n",
    "source('CyTOF_LDApredict.R')\n",
    "\n",
    "LDA.Model <- CyTOF_LDAtrain(TrainingSamplesExt = 'Train Samples/',TrainingLabelsExt = 'Train Labels/',mode = 'CSV',\n",
    "                            RelevantMarkers =  c(1:6),LabelIndex = FALSE, Transformation = 'log')\n",
    "\n",
    "Predictions <- CyTOF_LDApredict(LDA.Model,TestingSamplesExt = 'Test Samples/', mode = 'CSV', RejectionThreshold = 0)"
   ]
  },
  {
   "cell_type": "markdown",
   "metadata": {},
   "source": [
    "Read the true labels for the test set samples"
   ]
  },
  {
   "cell_type": "code",
   "execution_count": 3,
   "metadata": {},
   "outputs": [],
   "source": [
    "Labels.files <- list.files(path = 'Test Labels/', pattern = '.csv', full.names = TRUE)\n",
    "True.labels <- data.frame()\n",
    "for (i in Labels.files){\n",
    "  Temp <- read.csv(i,header = FALSE, colClasses = \"character\")\n",
    "  True.labels = rbind(True.labels,as.data.frame(Temp))\n",
    "}\n",
    "True.labels <- unlist(as.list(True.labels))"
   ]
  },
  {
   "cell_type": "markdown",
   "metadata": {},
   "source": [
    "Compare the predicted and true cell labels"
   ]
  },
  {
   "cell_type": "code",
   "execution_count": 4,
   "metadata": {},
   "outputs": [
    {
     "data": {
      "text/html": [
       "76.5073408116133"
      ],
      "text/latex": [
       "76.5073408116133"
      ],
      "text/markdown": [
       "76.5073408116133"
      ],
      "text/plain": [
       "[1] 76.50734"
      ]
     },
     "metadata": {},
     "output_type": "display_data"
    }
   ],
   "source": [
    "Predictions <- unlist(Predictions)\n",
    "Accuracy <- sum(Predictions == True.labels)/length(True.labels) * 100\n",
    "Accuracy"
   ]
  }
 ],
 "metadata": {
  "kernelspec": {
   "display_name": "R",
   "language": "R",
   "name": "ir"
  },
  "language_info": {
   "codemirror_mode": "r",
   "file_extension": ".r",
   "mimetype": "text/x-r-source",
   "name": "R",
   "pygments_lexer": "r",
   "version": "3.5.1"
  }
 },
 "nbformat": 4,
 "nbformat_minor": 2
}
